{
 "cells": [
  {
   "cell_type": "code",
   "execution_count": null,
   "metadata": {},
   "outputs": [],
   "source": [
    "#!pip install PyMuPDF\n",
    "#%pip install llama-index-extractors-entity\n",
    "#!pip uninstall nltk\n",
    "#!pip install nltk\n",
    "#!python.exe -m pip install --upgrade pip"
   ]
  },
  {
   "cell_type": "markdown",
   "metadata": {},
   "source": [
    "\n",
    "* Creating Nodes and Documents\n",
    "* Retrievers\n",
    "* Implementing Metadata Extraction"
   ]
  },
  {
   "cell_type": "code",
   "execution_count": 17,
   "metadata": {},
   "outputs": [
    {
     "name": "stdout",
     "output_type": "stream",
     "text": [
      "[NodeWithScore(node=TextNode(id_='20871271-acf4-4896-98f1-777dcf469f6f', embedding=None, metadata={'location': 'Beijing, China', 'date_taken': '2021-10-03', 'camera': 'Canon EOS Rebel T7'}, excluded_embed_metadata_keys=[], excluded_llm_metadata_keys=[], relationships={<NodeRelationship.SOURCE: '1'>: RelatedNodeInfo(node_id='6d259d44-46a9-4104-8efc-8ace0efb082f', node_type='4', metadata={'location': 'Beijing, China', 'date_taken': '2021-10-03', 'camera': 'Canon EOS Rebel T7'}, hash='07653394bd612b9ee1610062dc42f41976b8965717f6b137c79141e6cf2decd9')}, metadata_template='{key}: {value}', metadata_separator='\\n', text='A photo of the Great Wall of China', mimetype='text/plain', start_char_idx=0, end_char_idx=34, metadata_seperator='\\n', text_template='{metadata_str}\\n\\n{content}'), score=0.8399970647123353), NodeWithScore(node=TextNode(id_='bdd97940-053f-4a35-9c1a-9753f98a89e0', embedding=None, metadata={'location': 'Paris, France', 'date_taken': '2021-07-15', 'camera': 'Nikon D3500'}, excluded_embed_metadata_keys=[], excluded_llm_metadata_keys=[], relationships={<NodeRelationship.SOURCE: '1'>: RelatedNodeInfo(node_id='575122e5-f13b-4dd7-8ff8-f2a389d14c8e', node_type='4', metadata={'location': 'Paris, France', 'date_taken': '2021-07-15', 'camera': 'Nikon D3500'}, hash='42afb3506f0764729a021f4cd728e45b530e634e82744b9ae490ab9869e25afd')}, metadata_template='{key}: {value}', metadata_separator='\\n', text='A photo of the Eiffel Tower at sunset', mimetype='text/plain', start_char_idx=0, end_char_idx=37, metadata_seperator='\\n', text_template='{metadata_str}\\n\\n{content}'), score=0.7695840052773181)]\n"
     ]
    }
   ],
   "source": [
    "from llama_index.core.schema import Document\n",
    "from llama_index.core import VectorStoreIndex, SimpleDirectoryReader\n",
    "from llama_index.core.vector_stores import MetadataFilter, MetadataFilters, FilterOperator\n",
    "\n",
    "photos = [\n",
    "    Document(\n",
    "        text=\"A photo of the Eiffel Tower at sunset\",\n",
    "        metadata={\n",
    "            \"location\": \"Paris, France\",\n",
    "            \"date_taken\": \"2021-07-15\",\n",
    "            \"camera\": \"Nikon D3500\",\n",
    "        },\n",
    "    ),\n",
    "    Document(\n",
    "        text=\"A photo of the Great Wall of China\",\n",
    "        metadata={\n",
    "            \"location\": \"Beijing, China\",\n",
    "            \"date_taken\": \"2021-10-03\",\n",
    "            \"camera\": \"Canon EOS Rebel T7\",\n",
    "        },\n",
    "    ),\n",
    "]\n",
    "#print(photos)\n",
    "index = VectorStoreIndex.from_documents(photos)\n",
    "filters = MetadataFilters(\n",
    "    filters=[\n",
    "        MetadataFilter(key=\"location\", operator=FilterOperator.EQ, value=\"Paris, France\"),\n",
    "    ]\n",
    ")\n",
    "#retriever = index.as_retriever(filters=filters)\n",
    "retriever = index.as_retriever()\n",
    "results = retriever.retrieve(\"show photos from china \")\n",
    "print(results)"
   ]
  },
  {
   "cell_type": "code",
   "execution_count": 6,
   "metadata": {},
   "outputs": [
    {
     "name": "stdout",
     "output_type": "stream",
     "text": [
      "[NodeWithScore(node=TextNode(id_='8761fdd8-1533-4236-a9af-7bf17b26b3fc', embedding=None, metadata={'location': 'Paris, France', 'date_taken': '2021-07-15', 'camera': 'Nikon D3500'}, excluded_embed_metadata_keys=[], excluded_llm_metadata_keys=[], relationships={<NodeRelationship.SOURCE: '1'>: RelatedNodeInfo(node_id='3156a57e-d785-4c1e-b12d-366ac94b4c21', node_type='4', metadata={'location': 'Paris, France', 'date_taken': '2021-07-15', 'camera': 'Nikon D3500'}, hash='42afb3506f0764729a021f4cd728e45b530e634e82744b9ae490ab9869e25afd')}, metadata_template='{key}: {value}', metadata_separator='\\n', text='A photo of the Eiffel Tower at sunset', mimetype='text/plain', start_char_idx=0, end_char_idx=37, metadata_seperator='\\n', text_template='{metadata_str}\\n\\n{content}'), score=0.834497249103706), NodeWithScore(node=TextNode(id_='e91f0647-e383-4ef4-b2fb-75047edee8ab', embedding=None, metadata={'location': 'Beijing, China', 'date_taken': '2021-10-03', 'camera': 'Canon EOS Rebel T7'}, excluded_embed_metadata_keys=[], excluded_llm_metadata_keys=[], relationships={<NodeRelationship.SOURCE: '1'>: RelatedNodeInfo(node_id='b483e1b7-bdfe-43dc-a795-0e5c245b2553', node_type='4', metadata={'location': 'Beijing, China', 'date_taken': '2021-10-03', 'camera': 'Canon EOS Rebel T7'}, hash='07653394bd612b9ee1610062dc42f41976b8965717f6b137c79141e6cf2decd9')}, metadata_template='{key}: {value}', metadata_separator='\\n', text='A photo of the Great Wall of China', mimetype='text/plain', start_char_idx=0, end_char_idx=34, metadata_seperator='\\n', text_template='{metadata_str}\\n\\n{content}'), score=0.7692260985887063)]\n"
     ]
    }
   ],
   "source": [
    "retriever = index.as_retriever()\n",
    "results = retriever.retrieve(\"show photos from paris\")\n",
    "print(results)"
   ]
  },
  {
   "cell_type": "markdown",
   "metadata": {},
   "source": [
    "* Transformation\n"
   ]
  },
  {
   "cell_type": "code",
   "execution_count": null,
   "metadata": {},
   "outputs": [],
   "source": [
    "from llama_index.core import SimpleDirectoryReader\n",
    "from llama_index.core import VectorStoreIndex\n",
    "from llama_index.core.node_parser import SentenceSplitter\n",
    "from llama_index.core.extractors import (\n",
    "    SummaryExtractor,\n",
    "    QuestionsAnsweredExtractor,\n",
    "    TitleExtractor,\n",
    "    KeywordExtractor,    \n",
    ")\n",
    "from llama_index.extractors.entity import EntityExtractor\n",
    "from llama_index.readers.file.docs import PDFReader\n",
    "from pathlib import Path\n",
    "\n",
    "loader = PDFReader()\n",
    "documents = loader.load_data(file=Path(\"./data/Cristiano_Ronaldo.pdf\"))\n",
    "\n",
    "transformations = [\n",
    "    SentenceSplitter(chunk_size=512, chunk_overlap=50),\n",
    "    EntityExtractor(prediction_threshold=0.5),\n",
    "    SummaryExtractor(summaries=[\"prev\", \"self\"]),\n",
    "    KeywordExtractor(keywords=10),\n",
    "    TitleExtractor(),    \n",
    "    QuestionsAnsweredExtractor(questions=3)\n",
    "]\n",
    "\n",
    "cindex = VectorStoreIndex.from_documents(documents, transformations=transformations)\n"
   ]
  },
  {
   "cell_type": "code",
   "execution_count": 19,
   "metadata": {},
   "outputs": [],
   "source": [
    "from llama_index.core import load_index_from_storage, StorageContext\n",
    "\n",
    "storage_context = StorageContext.from_defaults(persist_dir=\"./cr7_indexed_data\")\n",
    "\n",
    "loaded_index = load_index_from_storage(storage_context)\n"
   ]
  },
  {
   "cell_type": "code",
   "execution_count": 30,
   "metadata": {},
   "outputs": [
    {
     "name": "stdout",
     "output_type": "stream",
     "text": [
      "Cristiano Ronaldo's total goal in the 2008-09 season for Manchester United was 26.\n"
     ]
    }
   ],
   "source": [
    "# set Logging to DEBUG for more detailed outputs\n",
    "query_engine = index.as_query_engine(streaming=True, similarity_top_k=5)\n",
    "response_stream = query_engine.query(\n",
    "    \"whats his total goal in 2008-09 manchester united\",\n",
    ")\n",
    "print(response_stream)"
   ]
  },
  {
   "cell_type": "code",
   "execution_count": 31,
   "metadata": {},
   "outputs": [
    {
     "name": "stdout",
     "output_type": "stream",
     "text": [
      "Cristiano Ronaldo's total goal in the 2008-09 season for Manchester United was 26.\n"
     ]
    }
   ],
   "source": [
    "response_stream.print_response_stream()"
   ]
  }
 ],
 "metadata": {
  "kernelspec": {
   "display_name": "yvenv",
   "language": "python",
   "name": "python3"
  },
  "language_info": {
   "codemirror_mode": {
    "name": "ipython",
    "version": 3
   },
   "file_extension": ".py",
   "mimetype": "text/x-python",
   "name": "python",
   "nbconvert_exporter": "python",
   "pygments_lexer": "ipython3",
   "version": "3.11.7"
  }
 },
 "nbformat": 4,
 "nbformat_minor": 2
}
