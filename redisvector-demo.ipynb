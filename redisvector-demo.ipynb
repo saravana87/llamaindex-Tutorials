{
 "cells": [
  {
   "cell_type": "code",
   "execution_count": null,
   "id": "d093c9e1",
   "metadata": {},
   "outputs": [],
   "source": [
    "#%pip install -U llama-index llama-index-vector-stores-redis llama-index-embeddings-cohere llama-index-embeddings-openai\n",
    "#%pip install llama-index-vector-stores-postgres\n",
    "%pip install llama-index-storage-docstore-redis\n",
    "%pip install llama-index-vector-stores-redis\n",
    "%pip install llama-index-embeddings-huggingface\n",
    "%pip install llama-index-embeddings-openai"
   ]
  },
  {
   "cell_type": "markdown",
   "id": "1d2fade7",
   "metadata": {},
   "source": [
    "- https://redis.io/docs/latest/operate/oss_and_stack/install/install-stack/"
   ]
  },
  {
   "cell_type": "code",
   "execution_count": null,
   "id": "6e90d73e",
   "metadata": {},
   "outputs": [],
   "source": [
    "import pandas as pd\n",
    "from sqlalchemy import create_engine\n",
    "from llama_index.core.schema import TextNode\n",
    "from llama_index.embeddings.openai import OpenAIEmbedding\n",
    "from llama_index.vector_stores.postgres import PGVectorStore\n",
    "from llama_index.core import VectorStoreIndex, StorageContext\n",
    "from sqlalchemy import make_url\n",
    "\n",
    "import os\n",
    "from llama_index.core import Settings, Document\n",
    "\n",
    "\n",
    "\n"
   ]
  },
  {
   "cell_type": "code",
   "execution_count": 41,
   "id": "d2d25547",
   "metadata": {},
   "outputs": [],
   "source": [
    "from llama_index.core import SimpleDirectoryReader\n",
    "\n",
    "# load documents with deterministic IDs\n",
    "documents = SimpleDirectoryReader(\n",
    "    \"./nodestext\", filename_as_id=True\n",
    ").load_data()"
   ]
  },
  {
   "cell_type": "code",
   "execution_count": 54,
   "id": "69b7893b",
   "metadata": {},
   "outputs": [],
   "source": [
    "from llama_index.embeddings.huggingface import HuggingFaceEmbedding\n",
    "from llama_index.core.ingestion import (\n",
    "    DocstoreStrategy,\n",
    "    IngestionPipeline,\n",
    "    IngestionCache,\n",
    ")\n",
    "from llama_index.storage.kvstore.redis import RedisKVStore as RedisCache\n",
    "from llama_index.storage.docstore.redis import RedisDocumentStore\n",
    "from llama_index.core.node_parser import SentenceSplitter\n",
    "from llama_index.vector_stores.redis import RedisVectorStore\n",
    "from llama_index.embeddings.openai import OpenAIEmbedding\n",
    "\n",
    "from redisvl.schema import IndexSchema\n",
    "#embed_model = HuggingFaceEmbedding(model_name=\"BAAI/bge-small-en-v1.5\")\n",
    "embed_model = OpenAIEmbedding()\n",
    "custom_schema = IndexSchema.from_dict(\n",
    "    {\n",
    "        \"index\": {\"name\": \"redis_vector_store_openai4\", \"prefix\": \"doc\"},\n",
    "        # customize fields that are indexed\n",
    "        \"fields\": [\n",
    "            # required fields for llamaindex\n",
    "            {\"type\": \"tag\", \"name\": \"id\"},\n",
    "            {\"type\": \"tag\", \"name\": \"doc_id\"},\n",
    "            {\"type\": \"text\", \"name\": \"text\"},\n",
    "            {\n",
    "                \"type\": \"vector\",\n",
    "                \"name\": \"vector\",\n",
    "                \"attrs\": {\n",
    "                    \"dims\": 1536,\n",
    "                    \"algorithm\": \"hnsw\",\n",
    "                    \"distance_metric\": \"cosine\",\n",
    "                },\n",
    "            },\n",
    "        ],\n",
    "    }\n",
    ")"
   ]
  },
  {
   "cell_type": "code",
   "execution_count": 56,
   "id": "5deda06b",
   "metadata": {},
   "outputs": [],
   "source": [
    "pipeline = IngestionPipeline(\n",
    "    transformations=[\n",
    "        SentenceSplitter(),\n",
    "        embed_model,\n",
    "    ],\n",
    "    docstore=RedisDocumentStore.from_host_and_port(\n",
    "        \"localhost\", 6379, namespace=\"document_store\"\n",
    "    ),\n",
    "    vector_store=RedisVectorStore(\n",
    "        schema=custom_schema,\n",
    "        redis_url=\"redis://localhost:6379\",\n",
    "    ),\n",
    "    #vector_store=pgvector_store,\n",
    "    cache=IngestionCache(\n",
    "        cache=RedisCache.from_host_and_port(\"localhost\", 6379),\n",
    "        collection=\"redis_cache\",\n",
    "    ),\n",
    "    docstore_strategy=DocstoreStrategy.UPSERTS,\n",
    ")"
   ]
  },
  {
   "cell_type": "code",
   "execution_count": 57,
   "id": "13167007",
   "metadata": {},
   "outputs": [
    {
     "name": "stdout",
     "output_type": "stream",
     "text": [
      "Ingested 1910 Nodes\n"
     ]
    }
   ],
   "source": [
    "nodes = pipeline.run(documents=documents)\n",
    "print(f\"Ingested {len(nodes)} Nodes\")"
   ]
  },
  {
   "cell_type": "code",
   "execution_count": 58,
   "id": "70dcce94",
   "metadata": {},
   "outputs": [],
   "source": [
    "from llama_index.core import VectorStoreIndex\n",
    "\n",
    "index = VectorStoreIndex.from_vector_store(\n",
    "    pipeline.vector_store,  \n",
    "    embed_model=embed_model\n",
    ")"
   ]
  },
  {
   "cell_type": "code",
   "execution_count": 59,
   "id": "2b8d91ea",
   "metadata": {},
   "outputs": [
    {
     "name": "stdout",
     "output_type": "stream",
     "text": [
      "I see the following documents:\n",
      "1. Document with Id: 189305 - Category: Catalog\n",
      "2. Document with Id: 193147 - Category: Public Safety Key-chain\n",
      "3. Document with Id: 194331 - Category: Video Intercom & Face Recognition Door Station\n",
      "4. Document with Id: 194333 - Category: USB Card Issuer\n",
      "5. Document with Id: 194319 - Category: Access Control - 4-Door Controller\n",
      "6. Document with Id: 193719 - Category: Collector Pocket Knife\n",
      "7. Document with Id: 188217 - Category: Evil Cat Keychain\n",
      "8. Document with Id: 188220 - Category: Evil Cat Keychain\n",
      "9. Document with Id: 188218 - Category: Evil Cat Keychain\n",
      "10. Document with Id: 194316 - Category: Access Control - 2-Door Controller\n"
     ]
    }
   ],
   "source": [
    "print(\n",
    "    index.as_query_engine(similarity_top_k=10).query(\n",
    "        \"What documents do you see? and what categories\"\n",
    "    )\n",
    ")"
   ]
  },
  {
   "cell_type": "code",
   "execution_count": 60,
   "id": "ba9480cd",
   "metadata": {},
   "outputs": [
    {
     "name": "stdout",
     "output_type": "stream",
     "text": [
      "Knives come in various types such as fixed blade knives, spring-assisted knives, knuckle knives, and survival knives. They are made from high-quality materials like stainless steel and aluminum, offering durability and reliable performance. Knives serve different purposes including self-defense, outdoor activities, tactical operations, and everyday tasks. They feature sharp blades, ergonomic handles, pocket clips, and unique designs like scorpion or US flag motifs.\n"
     ]
    }
   ],
   "source": [
    "print(\n",
    "    index.as_chat_engine(similarity_top_k=10).chat(\n",
    "        \"tell me about knife\"\n",
    "    )\n",
    ")"
   ]
  }
 ],
 "metadata": {
  "kernelspec": {
   "display_name": "rvenv",
   "language": "python",
   "name": "python3"
  },
  "language_info": {
   "codemirror_mode": {
    "name": "ipython",
    "version": 3
   },
   "file_extension": ".py",
   "mimetype": "text/x-python",
   "name": "python",
   "nbconvert_exporter": "python",
   "pygments_lexer": "ipython3",
   "version": "3.11.7"
  }
 },
 "nbformat": 4,
 "nbformat_minor": 5
}
