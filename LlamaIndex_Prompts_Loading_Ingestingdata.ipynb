{
 "cells": [
  {
   "cell_type": "markdown",
   "metadata": {},
   "source": [
    "**Prompts, LLM, Loading, Ingesting Data**\n",
    "* LLM\n",
    "* Tokenization\n",
    "* Prompts \n",
    "* SimpleDirectoryReader"
   ]
  },
  {
   "cell_type": "code",
   "execution_count": 1,
   "metadata": {},
   "outputs": [
    {
     "name": "stdout",
     "output_type": "stream",
     "text": [
      "LlamaIndex is a website that tracks the prices of llamas and alpacas in the United States. It provides up-to-date information on market trends and helps buyers and sellers make informed decisions.\n"
     ]
    }
   ],
   "source": [
    "from llama_index.llms.openai import OpenAI\n",
    "from llama_index.core.prompts import PromptTemplate\n",
    "\n",
    "# Define LLM\n",
    "llm = OpenAI(model=\"gpt-3.5-turbo\")\n",
    "\n",
    "# Create a prompt template\n",
    "prompt = PromptTemplate(\"What is {topic}? Explain in 2 lines.\")\n",
    "\n",
    "# Use the prompt\n",
    "response = llm.complete(prompt.format(topic=\"LlamaIndex\"))\n",
    "\n",
    "print(response.text)\n"
   ]
  },
  {
   "cell_type": "code",
   "execution_count": null,
   "metadata": {},
   "outputs": [],
   "source": [
    "from llama_index.core import SimpleDirectoryReader\n",
    "from llama_index.core import VectorStoreIndex\n",
    "from llama_index.core.node_parser import SentenceSplitter\n",
    "#from llama_index.readers.file.docs import PDFReader\n",
    "from llama_index.readers.file import PyMuPDFReader\n",
    "from llama_index.core.node_parser import SentenceSplitter\n",
    "from llama_index.readers.file.docs import PDFReader\n",
    "from pathlib import Path\n",
    "\n",
    "text_splitter = SentenceSplitter(chunk_size=512, chunk_overlap=50)\n",
    "\n",
    "loader = PDFReader()\n",
    "documents = loader.load_data(file=Path(\"./data/Rajinikanth.pdf\"))\n",
    "\n",
    "\n",
    "\n"
   ]
  },
  {
   "cell_type": "code",
   "execution_count": null,
   "metadata": {},
   "outputs": [
    {
     "name": "stdout",
     "output_type": "stream",
     "text": [
      "<llama_index.core.indices.vector_store.base.VectorStoreIndex object at 0x000001DC5F2ECC10>\n"
     ]
    }
   ],
   "source": [
    "index = VectorStoreIndex.from_documents(documents, transformations=[text_splitter])\n",
    "print(index)\n",
    "#index.storage_context.persist(persist_dir=\"./indexed_data\")"
   ]
  },
  {
   "cell_type": "code",
   "execution_count": 1,
   "metadata": {},
   "outputs": [],
   "source": [
    "from llama_index.core import load_index_from_storage, StorageContext\n",
    "\n",
    "storage_context = StorageContext.from_defaults(persist_dir=\"./indexed_data\")\n",
    "\n",
    "loaded_index = load_index_from_storage(storage_context)\n"
   ]
  },
  {
   "cell_type": "code",
   "execution_count": 3,
   "metadata": {},
   "outputs": [],
   "source": [
    "#qg = index.as_chat_engine(chat_mode='context')\n",
    "qg = loaded_index.as_query_engine(similarity_top_k=1)"
   ]
  },
  {
   "cell_type": "code",
   "execution_count": 4,
   "metadata": {},
   "outputs": [
    {
     "name": "stdout",
     "output_type": "stream",
     "text": [
      "1. Billa\n",
      "2. Netrikan\n",
      "3. Thillu Mullu\n"
     ]
    }
   ],
   "source": [
    "#respone = qg.query(\"Tell me about rajini latest movies\")\n",
    "#response = qg.chat(\"tell me about rajnikanth\")\n",
    "#response = qg.chat(\"who is thalaiver\")\n",
    "#response = qg.chat(\"tell me about his latest movie\")\n",
    "response = qg.query(\"list 3 rajini movies in list\")\n",
    "print(response)"
   ]
  },
  {
   "cell_type": "code",
   "execution_count": null,
   "metadata": {},
   "outputs": [
    {
     "name": "stdout",
     "output_type": "stream",
     "text": [
      "Rajinikanth's recent movies include \"Sultan\" (rechristened as \"Hara\"), an animated film on Rajinikanth released in December 2008, and \"Kuselan,\" which was a topic of discussion in the industry in 2008.\n"
     ]
    }
   ],
   "source": [
    "\n",
    "response = qg.chat(\"whats his recent movies\")\n",
    "print(response)"
   ]
  },
  {
   "cell_type": "markdown",
   "metadata": {},
   "source": [
    "* VectorStoreIndex"
   ]
  },
  {
   "cell_type": "markdown",
   "metadata": {},
   "source": [
    "**Full Flow**\n",
    "-Files\n",
    "----Documents\n",
    "------Nodes (N1, N2, N3....N)\n",
    "--------Prompts (Tell me about Madurai city.)\n",
    "-----------LLM \n",
    "-------------Answers \n"
   ]
  }
 ],
 "metadata": {
  "kernelspec": {
   "display_name": "yvenv",
   "language": "python",
   "name": "python3"
  },
  "language_info": {
   "codemirror_mode": {
    "name": "ipython",
    "version": 3
   },
   "file_extension": ".py",
   "mimetype": "text/x-python",
   "name": "python",
   "nbconvert_exporter": "python",
   "pygments_lexer": "ipython3",
   "version": "3.11.7"
  }
 },
 "nbformat": 4,
 "nbformat_minor": 2
}
