{
 "cells": [
  {
   "cell_type": "markdown",
   "id": "468f797f",
   "metadata": {},
   "source": [
    "* Important Links\n",
    "* https://tesseract-ocr.github.io/tessdoc/Downloads\n",
    "* https://github.com/tesseract-ocr/tessdata/blob/main/tam.traineddata"
   ]
  },
  {
   "cell_type": "code",
   "execution_count": 3,
   "id": "85619289",
   "metadata": {},
   "outputs": [
    {
     "name": "stdout",
     "output_type": "stream",
     "text": [
      "✅ CSV saved as 'tamil_booksv2.csv'\n"
     ]
    }
   ],
   "source": [
    "import pytesseract\n",
    "from pdf2image import convert_from_path\n",
    "from PIL import Image\n",
    "import os \n",
    "import csv\n",
    "import re\n",
    "\n",
    "# Path to Tesseract if not in system PATH\n",
    "pytesseract.pytesseract.tesseract_cmd = r\"C:\\Program Files\\Tesseract-OCR\\tesseract.exe\"\n",
    "os.environ[\"TESSDATA_PREFIX\"] = r\"C:\\Program Files\\Tesseract-OCR\\tessdata\"\n",
    "# Convert PDF to image\n",
    "images = convert_from_path(\"sample-tamil-books.pdf\", dpi=300)\n",
    "\n",
    "# Store all text in a single variable\n",
    "full_text = \"\"\n",
    "for img in images:\n",
    "    full_text += pytesseract.image_to_string(img, lang=\"tam\")\n",
    "\n",
    "# Split lines and extract book name + price pairs using regex\n",
    "lines = full_text.splitlines()\n",
    "book_data = []\n",
    "for line in lines:\n",
    "    match = re.match(r\"^(.*?)(\\d{2,4}\\.00)$\", line.strip())\n",
    "    if match:\n",
    "        name = match.group(1).strip()\n",
    "        price = match.group(2)\n",
    "        book_data.append([name, price])\n",
    "\n",
    "# Save to CSV\n",
    "with open(\"tamil_booksv2.csv\", \"w\", newline='', encoding=\"utf-8\") as f:\n",
    "    writer = csv.writer(f)\n",
    "    writer.writerow([\"Book Name\", \"Price\"])\n",
    "    writer.writerows(book_data)\n",
    "\n",
    "print(\"✅ CSV saved as 'tamil_booksv2.csv'\")\n",
    "\n",
    "\n"
   ]
  },
  {
   "cell_type": "code",
   "execution_count": 5,
   "id": "c5b08d06",
   "metadata": {},
   "outputs": [
    {
     "name": "stdout",
     "output_type": "stream",
     "text": [
      "✅ Tamil OCR complete. Text saved to 'tamilbooktext_converted.txt'\n"
     ]
    }
   ],
   "source": [
    "import pytesseract\n",
    "from pdf2image import convert_from_path\n",
    "from PIL import Image\n",
    "import os\n",
    "\n",
    "# Configure Tesseract path\n",
    "pytesseract.pytesseract.tesseract_cmd = r\"C:\\Program Files\\Tesseract-OCR\\tesseract.exe\"\n",
    "os.environ[\"TESSDATA_PREFIX\"] = r\"C:\\Program Files\\Tesseract-OCR\\tessdata\"\n",
    "\n",
    "# Convert PDF pages to images\n",
    "images = convert_from_path(\"sample-tamil-books.pdf\", dpi=300)\n",
    "\n",
    "# Extract Tamil OCR text\n",
    "ocr_text = \"\"\n",
    "for img in images:\n",
    "    ocr_text += pytesseract.image_to_string(img, lang=\"tam\") + \"\\n\"\n",
    "\n",
    "# Save to .txt for review\n",
    "with open(\"tamilbooktext_converted.txt\", \"w\", encoding=\"utf-8\") as f:\n",
    "    f.write(ocr_text)\n",
    "\n",
    "print(\"✅ Tamil OCR complete. Text saved to 'tamilbooktext_converted.txt'\")\n"
   ]
  },
  {
   "cell_type": "code",
   "execution_count": 10,
   "id": "b5884e81",
   "metadata": {},
   "outputs": [],
   "source": [
    "from llama_index.core import VectorStoreIndex, SimpleDirectoryReader\n",
    "\n",
    "\n",
    "# Load document\n",
    "documents = SimpleDirectoryReader(input_files=[\"tamilbooktext_converted.txt\"]\n",
    ").load_data()\n",
    "\n",
    "# Create index\n",
    "index = VectorStoreIndex.from_documents(documents)\n",
    "query_engine = index.as_query_engine()\n",
    "\n"
   ]
  },
  {
   "cell_type": "code",
   "execution_count": 12,
   "id": "673410e5",
   "metadata": {},
   "outputs": [
    {
     "name": "stdout",
     "output_type": "stream",
     "text": [
      "The books priced below 100 rupees are:\n",
      "1. இலக்கிய இலக்குகள்‌ பபப பபபபபபபபப டாக்டா்‌ எம்‌.ஏ. சுசீலா 50.00\n",
      "2. பெண்‌ இலக்கியம்‌ வாசிப்பு பபப டாக்டர்‌ எம்‌.ஏ. சுசீலா 35.00\n",
      "3. முல்லைப்பாட்டு பபப பபவவயவவவவவையை முனைவர்‌ மகாராசன்‌ 40.00\n"
     ]
    }
   ],
   "source": [
    "# Example query in Tamil\n",
    "response = query_engine.query(\"100 ரூபாய்க்கு குறைவான புத்தகங்களை பட்டியலிடுங்கள்\")\n",
    "print(response)\n"
   ]
  },
  {
   "cell_type": "code",
   "execution_count": 13,
   "id": "6b07ef3c",
   "metadata": {},
   "outputs": [
    {
     "name": "stdout",
     "output_type": "stream",
     "text": [
      "Jeyakandan's books include \"ஞானபீட\" and \"சிக்கனையாளர்‌ ஊயகாங்கன்‌ நாவல்கள்‌\".\n"
     ]
    }
   ],
   "source": [
    "response = query_engine.query(\"list books of jeyakandan\")\n",
    "print(response)"
   ]
  }
 ],
 "metadata": {
  "kernelspec": {
   "display_name": "venv",
   "language": "python",
   "name": "python3"
  },
  "language_info": {
   "codemirror_mode": {
    "name": "ipython",
    "version": 3
   },
   "file_extension": ".py",
   "mimetype": "text/x-python",
   "name": "python",
   "nbconvert_exporter": "python",
   "pygments_lexer": "ipython3",
   "version": "3.11.7"
  }
 },
 "nbformat": 4,
 "nbformat_minor": 5
}
